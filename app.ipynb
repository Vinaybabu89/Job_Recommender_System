{
 "cells": [
  {
   "cell_type": "code",
   "execution_count": 6,
   "metadata": {},
   "outputs": [
    {
     "name": "stdout",
     "output_type": "stream",
     "text": [
      " * Serving Flask app \"__main__\" (lazy loading)\n",
      " * Environment: production\n",
      "   WARNING: This is a development server. Do not use it in a production deployment.\n",
      "   Use a production WSGI server instead.\n",
      " * Debug mode: off\n"
     ]
    },
    {
     "name": "stderr",
     "output_type": "stream",
     "text": [
      " * Running on http://127.0.0.1:5000/ (Press CTRL+C to quit)\n",
      "127.0.0.1 - - [03/Dec/2021 12:42:58] \"GET / HTTP/1.1\" 200 -\n",
      "127.0.0.1 - - [03/Dec/2021 12:43:02] \"GET /recommend?Job_Roles=data+scientist%2CBengaluru HTTP/1.1\" 200 -\n"
     ]
    }
   ],
   "source": [
    "import pandas as pd\n",
    "import numpy as np\n",
    "import pandas as pd\n",
    "from flask import Flask, render_template, request\n",
    "# libraries for making count matrix and similarity matrix\n",
    "from sklearn.feature_extraction.text import CountVectorizer\n",
    "from sklearn.metrics.pairwise import cosine_similarity\n",
    "from IPython.display import HTML\n",
    "import shutil\n",
    "import os\n",
    "\n",
    "def create_sim():\n",
    "    data = pd.read_csv('naukri_recommend.csv')\n",
    "    data.reset_index(inplace=True)\n",
    "    data['Search']=data['Search'].str.lower()\n",
    "    # creating a count matrix\n",
    "    cv = CountVectorizer()\n",
    "    count_matrix = cv.fit_transform(data['Clean_data'])\n",
    "    # creating a similarity score matrix\n",
    "    sim = cosine_similarity(count_matrix,count_matrix)\n",
    "    return data,sim\n",
    "\n",
    "def rcmd(value):\n",
    "    value = value.lower()\n",
    "    # check if data and sim are already assigned\n",
    "    try:\n",
    "        data.head()\n",
    "        sim.shape\n",
    "    except:\n",
    "        data, sim = create_sim()\n",
    "    # check if the job_roles is in our database or not\n",
    "    if value not in data['Search'].unique():\n",
    "        return('This job_roles is not in our database.\\nPlease check if you spelled it correct.')\n",
    "    else:\n",
    "        # getting the index of the job_role in the dataframe\n",
    "        i = data.loc[data['Search']==value].index[0]\n",
    "\n",
    "        # fetching the row containing similarity scores of the job\n",
    "        # from similarity matrix and enumerate it\n",
    "        lst = list(enumerate(sim[i]))\n",
    "\n",
    "        # sorting this list in decreasing order based on the similarity score\n",
    "        lst = sorted(lst, key = lambda x:x[1] ,reverse=True)\n",
    "\n",
    "        # taking top 1- job_roles scores\n",
    "        # not taking the first index since it is the same job_roles\n",
    "        lst = lst[1:11]\n",
    "\n",
    "        # making an empty list that will containg all 10 job_roles recommendations\n",
    "        title_indices=[i[0] for i in lst]\n",
    "    \n",
    "        role=data['ROLES'].iloc[title_indices]\n",
    "        comp=data['Companies'].iloc[title_indices]\n",
    "        loc=data['Location'].iloc[title_indices]\n",
    "        sal=data['Salary'].iloc[title_indices]\n",
    "        skills=data['Skills'].iloc[title_indices]\n",
    "        job_titles=data['Title_new'].iloc[title_indices]\n",
    "        # input values into dataframe\n",
    "        rec_df=pd.DataFrame({'Given Job_roles':role,'Company':comp,'location':loc,'salary':sal,'Skills':skills,'Title':job_titles})\n",
    "        rec_df.reset_index(inplace=True)\n",
    "        rec_df.drop(\"index\",axis=1,inplace=True)\n",
    "        \n",
    "        return rec_df\n",
    "    \n",
    "    \n",
    "app = Flask(__name__)\n",
    "\n",
    "@app.route(\"/\")\n",
    "def home():\n",
    "    return render_template('home.html')\n",
    "\n",
    "@app.route(\"/recommend\")\n",
    "def recommend():\n",
    "    Job_Roles = request.args.get('Job_Roles')\n",
    "    r = rcmd(Job_Roles)\n",
    "    #movie = movie.upper()\n",
    "    if type(r)== type('string'):\n",
    "        return render_template('recommend.html',Job_Roles=Job_Roles,r=r,t='s')\n",
    "    else:\n",
    "        return render_template('recommend.html',Job_Roles=Job_Roles,r=r,t=[r.to_html(classes='data',header=\"true\")])\n",
    "        #return render_template('jobs.html',Job_Roles=Job_Roles,r=r,t='text_file')\n",
    "        \n",
    "\n",
    "\n",
    "\n",
    "if __name__ == '__main__':\n",
    "    app.run()\n"
   ]
  },
  {
   "cell_type": "code",
   "execution_count": null,
   "metadata": {},
   "outputs": [],
   "source": []
  },
  {
   "cell_type": "code",
   "execution_count": null,
   "metadata": {},
   "outputs": [],
   "source": []
  }
 ],
 "metadata": {
  "kernelspec": {
   "display_name": "Python 3",
   "language": "python",
   "name": "python3"
  },
  "language_info": {
   "codemirror_mode": {
    "name": "ipython",
    "version": 3
   },
   "file_extension": ".py",
   "mimetype": "text/x-python",
   "name": "python",
   "nbconvert_exporter": "python",
   "pygments_lexer": "ipython3",
   "version": "3.7.4"
  }
 },
 "nbformat": 4,
 "nbformat_minor": 2
}
